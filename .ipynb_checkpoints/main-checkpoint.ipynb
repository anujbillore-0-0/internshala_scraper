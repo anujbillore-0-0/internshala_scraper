{
 "cells": [
  {
   "cell_type": "markdown",
   "id": "470a5685-2c08-409d-8750-23d5ad97808c",
   "metadata": {},
   "source": [
    "## Imports"
   ]
  },
  {
   "cell_type": "code",
   "execution_count": 1,
   "id": "b3c98c3e-8e42-40fe-b85e-7ce2b734fd38",
   "metadata": {},
   "outputs": [],
   "source": [
    "from selenium import webdriver"
   ]
  },
  {
   "cell_type": "code",
   "execution_count": 2,
   "id": "d5957151-0ca9-446b-88b9-f4715f3074a5",
   "metadata": {},
   "outputs": [],
   "source": [
    "import time\n",
    "from selenium.webdriver.common.by import By\n",
    "from selenium.webdriver.common.action_chains import ActionChains"
   ]
  },
  {
   "cell_type": "code",
   "execution_count": 27,
   "id": "39def9ca-0cd0-4f8b-8779-dac4f55e0e49",
   "metadata": {},
   "outputs": [],
   "source": [
    "import pandas as pd\n",
    "import pywhatkit as kit\n",
    "import re\n",
    "from selenium.webdriver.support.ui import WebDriverWait\n",
    "from selenium.webdriver.support import expected_conditions as EC\n",
    "import sys\n",
    "from bs4 import BeautifulSoup\n",
    "import requests"
   ]
  },
  {
   "cell_type": "markdown",
   "id": "8d5f0c9f-8600-4722-bbb8-2cec1a622ae4",
   "metadata": {},
   "source": [
    "## Web Driver Setup"
   ]
  },
  {
   "cell_type": "code",
   "execution_count": 4,
   "id": "4ab6a1c5-61b9-46a9-8ba0-2a0aad7f2ddb",
   "metadata": {},
   "outputs": [],
   "source": [
    "driver = webdriver.Chrome()\n",
    "driver.maximize_window()"
   ]
  },
  {
   "cell_type": "code",
   "execution_count": 5,
   "id": "1c4bfa0d-2707-48c3-baef-4f73ae34a011",
   "metadata": {},
   "outputs": [],
   "source": [
    "url = 'https://internshala.com/'\n",
    "driver.get(url)"
   ]
  },
  {
   "cell_type": "markdown",
   "id": "1d620b57-c4bf-4a59-8ee5-d6d54076cfb4",
   "metadata": {},
   "source": [
    "## Logging in Internshala"
   ]
  },
  {
   "cell_type": "code",
   "execution_count": 6,
   "id": "ed45678f-8640-4c87-96c3-6936d8d9cfe1",
   "metadata": {},
   "outputs": [],
   "source": [
    "login_xpath = '//*[@id=\"header\"]/div/nav/div[3]/button[2]'\n",
    "login = driver.find_element(by=By.XPATH, value=login_xpath)"
   ]
  },
  {
   "cell_type": "code",
   "execution_count": 7,
   "id": "cb6b6a5f-d5c3-48e1-b842-a179a3dc01bd",
   "metadata": {},
   "outputs": [],
   "source": [
    "login.click()"
   ]
  },
  {
   "cell_type": "code",
   "execution_count": 8,
   "id": "cb0d6c01-9259-4999-a6e7-77215fc4cc79",
   "metadata": {},
   "outputs": [],
   "source": [
    "username_field = driver.find_element(By.XPATH, '//*[@id=\"modal_email\"]')"
   ]
  },
  {
   "cell_type": "code",
   "execution_count": 9,
   "id": "a809c82a-d596-4866-9b5b-8d234d93d259",
   "metadata": {},
   "outputs": [],
   "source": [
    "username_field.send_keys('anujbillore2005@gmail.com')"
   ]
  },
  {
   "cell_type": "code",
   "execution_count": 10,
   "id": "e03ee082-9cdb-4137-bed9-80872ad1ae75",
   "metadata": {},
   "outputs": [],
   "source": [
    "password_field = driver.find_element(By.XPATH, '//*[@id=\"modal_password\"]')\n",
    "password_field.send_keys('#31March')"
   ]
  },
  {
   "cell_type": "code",
   "execution_count": 11,
   "id": "b7b35b36-9fd8-4dc1-8815-cbb0dc47e3d4",
   "metadata": {},
   "outputs": [],
   "source": [
    "driver.find_element(By.XPATH, \"//button[@id='modal_login_submit']\").click()"
   ]
  },
  {
   "cell_type": "code",
   "execution_count": 12,
   "id": "0ce0e3a8-9980-4eb8-abe3-befab29cb8e1",
   "metadata": {},
   "outputs": [],
   "source": [
    "time.sleep(10)"
   ]
  },
  {
   "cell_type": "markdown",
   "id": "f11c9076-ccfb-4404-b8d8-b752c86ca7a6",
   "metadata": {},
   "source": [
    "## Opening internships Tab"
   ]
  },
  {
   "cell_type": "code",
   "execution_count": 13,
   "id": "bf9838bd-4cb1-4fc1-85f5-ebf96d280058",
   "metadata": {},
   "outputs": [],
   "source": [
    "actChain = ActionChains(driver)\n",
    "intern = driver.find_element(By.XPATH, \"//a[@id='internships_new_superscript']\")\n",
    "actChain.move_to_element(intern).perform()\n",
    "time.sleep(3)"
   ]
  },
  {
   "cell_type": "code",
   "execution_count": 14,
   "id": "aa562c30-0a9c-4ebd-b19f-91f368281591",
   "metadata": {},
   "outputs": [],
   "source": [
    "driver.find_element(By.XPATH,'//*[@id=\"jobs_new_superscript\"]').click()"
   ]
  },
  {
   "cell_type": "markdown",
   "id": "534527b7-ef88-4cb9-a89e-b320e5c9078f",
   "metadata": {},
   "source": [
    "## Filters and Searching"
   ]
  },
  {
   "cell_type": "code",
   "execution_count": 17,
   "id": "97c7e7b6-b806-476c-a6b6-429b2d1f454f",
   "metadata": {},
   "outputs": [],
   "source": [
    "intershipList = []"
   ]
  },
  {
   "cell_type": "code",
   "execution_count": 18,
   "id": "bfb0cc85-6775-4e40-810f-734576170dfc",
   "metadata": {},
   "outputs": [],
   "source": [
    "nextpage = driver.find_element(\"xpath\", \"//i[@id='navigation-forward' or @class='disabled']\")\n",
    "nextClass = nextpage.get_attribute(\"class\")"
   ]
  },
  {
   "cell_type": "code",
   "execution_count": 19,
   "id": "dc915f43-d9a2-44c2-8ec9-6d301e8a7722",
   "metadata": {},
   "outputs": [],
   "source": [
    "driver.find_element(By.XPATH,'//*[@id=\"keywords\"]').click()"
   ]
  },
  {
   "cell_type": "code",
   "execution_count": 20,
   "id": "ec47c903-d798-418b-8cb2-3f5721dd582c",
   "metadata": {},
   "outputs": [],
   "source": [
    "filter = driver.find_element(By.XPATH,'//*[@id=\"keywords\"]').send_keys('Java')"
   ]
  },
  {
   "cell_type": "code",
   "execution_count": 21,
   "id": "88563fc9-a6b0-46f8-ace8-cdda2b821f66",
   "metadata": {},
   "outputs": [],
   "source": [
    "driver.find_element(By.XPATH,'//*[@id=\"search\"]/i').click()"
   ]
  },
  {
   "cell_type": "code",
   "execution_count": 30,
   "id": "13372906-c843-4f94-8fb0-28deba34d5cf",
   "metadata": {},
   "outputs": [
    {
     "name": "stdout",
     "output_type": "stream",
     "text": [
      "Internship data saved successfully!\n"
     ]
    }
   ],
   "source": [
    "from selenium.webdriver.common.by import By\n",
    "from selenium.webdriver.support.ui import WebDriverWait as wait\n",
    "from selenium.webdriver.support import expected_conditions as EC\n",
    "import pandas as pd\n",
    "import time\n",
    "\n",
    "intershipList = []\n",
    "\n",
    "try:\n",
    "    nextpage = driver.find_element(By.XPATH, \"//i[@id='navigation-forward' or @class='disabled']\")\n",
    "    nextClass = nextpage.get_attribute(\"class\")\n",
    "except Exception as e:\n",
    "    print(f\"Failed to locate next button: {e}\")\n",
    "    nextClass = 'disabled'\n",
    "\n",
    "while nextClass != 'disabled':\n",
    "    time.sleep(1)\n",
    "    driver.execute_script(\"window.scrollTo(0, document.body.scrollHeight);\")\n",
    "    time.sleep(2)\n",
    "\n",
    "    try:\n",
    "        data = wait(driver, 10).until(EC.presence_of_all_elements_located((By.XPATH, \"//div[contains(@class, 'container-fluid individual_internship')]\")))\n",
    "        print(f\"Found {len(data)} internships on this page.\")  # Debugging\n",
    "    except Exception as e:\n",
    "        print(f\"Failed to find internship elements: {e}\")\n",
    "        break\n",
    "\n",
    "    for item in data:\n",
    "        try:\n",
    "            jobRole = item.find_element(By.TAG_NAME, 'a')\n",
    "            jobRoleLink = jobRole.get_attribute('href')\n",
    "            companyName = item.find_element(By.CLASS_NAME, 'company_and_premium').text\n",
    "            stipend = item.find_element(By.CLASS_NAME, 'stipend').text\n",
    "\n",
    "            intershipList.append({\n",
    "                'role': jobRole.text,\n",
    "                'link': jobRoleLink,\n",
    "                'company': companyName,\n",
    "                'stipend': stipend\n",
    "            })\n",
    "        except Exception as e:\n",
    "            print(f\"Error extracting internship details: {e}\")\n",
    "\n",
    "    try:\n",
    "        nextpage = driver.find_element(By.XPATH, \"//i[@id='navigation-forward' or @class='disabled']\")\n",
    "        nextpage.click()\n",
    "        time.sleep(2)\n",
    "        nextClass = nextpage.get_attribute(\"class\")\n",
    "    except Exception as e:\n",
    "        print(f\"Failed to click next page: {e}\")\n",
    "        break\n",
    "\n",
    "if intershipList:\n",
    "    df = pd.DataFrame(intershipList)\n",
    "    df.to_csv('internships.csv', index=False)\n",
    "    print(\"Internship data saved successfully!\")\n",
    "else:\n",
    "    print(\"No data was scraped. Please check XPaths or page loading issues.\")\n"
   ]
  },
  {
   "cell_type": "code",
   "execution_count": 133,
   "id": "fcc522bf-e46f-4797-9edb-1cf2cc548527",
   "metadata": {},
   "outputs": [
    {
     "name": "stdout",
     "output_type": "stream",
     "text": [
      "Empty DataFrame\n",
      "Columns: []\n",
      "Index: []\n"
     ]
    }
   ],
   "source": [
    "df = pd.DataFrame(intershipList)\n",
    "print(df.head())"
   ]
  },
  {
   "cell_type": "code",
   "execution_count": null,
   "id": "d772077d-0fa2-4c58-b9aa-4a40cdcfca19",
   "metadata": {},
   "outputs": [],
   "source": []
  }
 ],
 "metadata": {
  "kernelspec": {
   "display_name": "web_scraping",
   "language": "python",
   "name": "web_scraping"
  },
  "language_info": {
   "codemirror_mode": {
    "name": "ipython",
    "version": 3
   },
   "file_extension": ".py",
   "mimetype": "text/x-python",
   "name": "python",
   "nbconvert_exporter": "python",
   "pygments_lexer": "ipython3",
   "version": "3.12.7"
  }
 },
 "nbformat": 4,
 "nbformat_minor": 5
}
